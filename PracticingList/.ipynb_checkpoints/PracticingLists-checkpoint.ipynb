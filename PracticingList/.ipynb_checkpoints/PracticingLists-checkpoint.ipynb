{
 "cells": [
  {
   "cell_type": "markdown",
   "id": "a1cf36e6",
   "metadata": {},
   "source": [
    "# This notebook was setup to provide more practice with list in Python 3"
   ]
  },
  {
   "cell_type": "markdown",
   "id": "a575c5f3",
   "metadata": {},
   "source": [
    "I will be using data sources that are apis, databases, and spreadsheets to show real world uses in python. I wiill set up lists using these data sources and then you can use these list to practice different list operations on."
   ]
  },
  {
   "cell_type": "markdown",
   "id": "842f04b2",
   "metadata": {},
   "source": [
    "## Spreadsheet"
   ]
  },
  {
   "cell_type": "code",
   "execution_count": 1,
   "id": "962e9b4e",
   "metadata": {},
   "outputs": [],
   "source": [
    "# Setting up a list from a csv file.\n",
    "import csv\n",
    "csvList = []\n",
    "with open('GDP DATA.csv', mode='r') as file:\n",
    "    raw_data = csv.reader(file)\n",
    "    csvList = list(raw_data)\n",
    "for i in range(0, len(csvList)):\n",
    "    row = csvList[i]\n",
    "    for j in range(1,60):\n",
    "        row.pop(1)\n",
    "    csvList[i]=row"
   ]
  },
  {
   "cell_type": "code",
   "execution_count": null,
   "id": "f3e94d22-0bfd-4f3e-b857-dbfdf724be8b",
   "metadata": {},
   "outputs": [],
   "source": [
    "# Your code here."
   ]
  },
  {
   "cell_type": "markdown",
   "id": "94768ee7",
   "metadata": {},
   "source": [
    "## Database"
   ]
  },
  {
   "cell_type": "code",
   "execution_count": 2,
   "id": "6f78b0e8",
   "metadata": {
    "collapsed": true,
    "jupyter": {
     "outputs_hidden": true,
     "source_hidden": true
    },
    "tags": []
   },
   "outputs": [
    {
     "name": "stdout",
     "output_type": "stream",
     "text": [
      "Table created!\n",
      "Data written!\n"
     ]
    }
   ],
   "source": [
    "# Creating the sqlite database, this will not need to be ran.\n",
    "import sqlite3\n",
    "dbconn = sqlite3.connect('analysis.db')\n",
    "dbcur = dbconn.cursor()\n",
    "try:\n",
    "    dbcur.execute('''\n",
    "    CREATE TABLE teachers (\n",
    "        id int,\n",
    "        first_name varchar(25),\n",
    "        last_name varchar(50),\n",
    "        school varchar(50),\n",
    "        hire_date date,\n",
    "        salary numeric\n",
    "    );\n",
    "    ''')\n",
    "    print('Table created!')\n",
    "    dbcur.execute('''\n",
    "    INSERT INTO teachers(id, first_name, last_name, school, hire_date, salary)\n",
    "    VALUES(1,'Janet','Smith','F.D. Roosevelt HS','2011-10-30',36200),\n",
    "        (2,'Lee','Reynolds','F.D. Roosevelt HS','1993-05-22',65000),\n",
    "        (3,'Samuel','Cole','Myers Middle School','2005-08-01',43500),\n",
    "        (4,'Samantha','Bush','Myers Middle School','2011-10-30',36200),\n",
    "        (5,'Betty','Diaz','Myers Middle School','2005-08-30',43500),\n",
    "        (6,'Kathleen','Roush','F.D. Roosevelt HS','2010-10-22',38500)\n",
    "    ''')\n",
    "    print('Data written!')\n",
    "    dbconn.commit()\n",
    "    dbconn.close()\n",
    "except:\n",
    "    dbconn.rollback()"
   ]
  },
  {
   "cell_type": "code",
   "execution_count": 6,
   "id": "5a08b0f2-dfba-428b-a430-6124b0b61b93",
   "metadata": {},
   "outputs": [],
   "source": [
    "# Setting up a list from a database table.\n",
    "import sqlite3\n",
    "dbconn = sqlite3.connect('analysis.db')\n",
    "dbcur = dbconn.cursor()\n",
    "raw_data = dbcur.execute(\"SELECT * FROM teachers\")\n",
    "dbList = []\n",
    "for i in raw_data.fetchall():\n",
    "    dbList.append(list(i))\n",
    "dbconn.close()"
   ]
  },
  {
   "cell_type": "code",
   "execution_count": null,
   "id": "1b45bc18-b78b-41ed-bc93-5f2ccc15965f",
   "metadata": {},
   "outputs": [],
   "source": [
    "# Your code here."
   ]
  },
  {
   "cell_type": "markdown",
   "id": "d583a82e",
   "metadata": {},
   "source": [
    "## API"
   ]
  },
  {
   "cell_type": "code",
   "execution_count": 28,
   "id": "00980b81",
   "metadata": {
    "tags": []
   },
   "outputs": [],
   "source": [
    "# Setting up a list from an API call.\n",
    "import requests\n",
    "steamApiKey = \"527ADDFE840218B854DDA41905BB6CA5\" # Use you own API key here. One can be obtained from https://steamcommunity.com/dev/apikey.\n",
    "steamID = \"76561199092412457\"\n",
    "url = f\"https://api.steampowered.com/IPlayerService/GetOwnedGames/v0001/?key={steamApiKey}&steamid={steamID}&include_appinfo=1&format=json\"\n",
    "req = requests.get(url)\n",
    "steam = req.json()\n",
    "steam = steam['response']\n",
    "steam = steam['games']\n",
    "apiList = []\n",
    "for i in steam:\n",
    "    apiList.append(list(i.values()))"
   ]
  },
  {
   "cell_type": "code",
   "execution_count": null,
   "id": "9c4decdd",
   "metadata": {},
   "outputs": [],
   "source": [
    "# Your code here."
   ]
  }
 ],
 "metadata": {
  "kernelspec": {
   "display_name": "Python 3 (ipykernel)",
   "language": "python",
   "name": "python3"
  },
  "language_info": {
   "codemirror_mode": {
    "name": "ipython",
    "version": 3
   },
   "file_extension": ".py",
   "mimetype": "text/x-python",
   "name": "python",
   "nbconvert_exporter": "python",
   "pygments_lexer": "ipython3",
   "version": "3.9.7"
  }
 },
 "nbformat": 4,
 "nbformat_minor": 5
}
