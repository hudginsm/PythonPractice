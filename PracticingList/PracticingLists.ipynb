{
 "cells": [
  {
   "cell_type": "markdown",
   "id": "a1cf36e6",
   "metadata": {},
   "source": [
    "# This notebook was setup to provide more practice with list in Python 3"
   ]
  },
  {
   "cell_type": "markdown",
   "id": "a575c5f3",
   "metadata": {},
   "source": [
    "I will be using data sources that are apis, databases, and spreadsheets to show real world uses in python. I wiill set up lists using these data sources and then you can use these list to practice different list operations on."
   ]
  },
  {
   "cell_type": "markdown",
   "id": "842f04b2",
   "metadata": {},
   "source": [
    "## Spreadsheet"
   ]
  },
  {
   "cell_type": "code",
   "execution_count": null,
   "id": "962e9b4e",
   "metadata": {},
   "outputs": [],
   "source": [
    "file = \"GDP DATA.csv\"\n",
    "with file as f:\n",
    "    "
   ]
  },
  {
   "cell_type": "markdown",
   "id": "94768ee7",
   "metadata": {},
   "source": [
    "## Database"
   ]
  },
  {
   "cell_type": "code",
   "execution_count": null,
   "id": "6f78b0e8",
   "metadata": {},
   "outputs": [],
   "source": []
  },
  {
   "cell_type": "markdown",
   "id": "d583a82e",
   "metadata": {},
   "source": [
    "## API"
   ]
  },
  {
   "cell_type": "code",
   "execution_count": null,
   "id": "00980b81",
   "metadata": {},
   "outputs": [],
   "source": []
  },
  {
   "cell_type": "code",
   "execution_count": null,
   "id": "9c4decdd",
   "metadata": {},
   "outputs": [],
   "source": []
  }
 ],
 "metadata": {
  "kernelspec": {
   "display_name": "Python 3",
   "language": "python",
   "name": "python3"
  },
  "language_info": {
   "codemirror_mode": {
    "name": "ipython",
    "version": 3
   },
   "file_extension": ".py",
   "mimetype": "text/x-python",
   "name": "python",
   "nbconvert_exporter": "python",
   "pygments_lexer": "ipython3",
   "version": "3.7.1"
  }
 },
 "nbformat": 4,
 "nbformat_minor": 5
}
