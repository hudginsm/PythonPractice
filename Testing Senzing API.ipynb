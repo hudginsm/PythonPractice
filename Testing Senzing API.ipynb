{
 "cells": [
  {
   "cell_type": "code",
   "execution_count": 4,
   "metadata": {},
   "outputs": [
    {
     "name": "stdout",
     "output_type": "stream",
     "text": [
      "ERROR: Unable to load G2.  Did you remember to setup your environment by sourcing the setupEnv file?\n",
      "ERROR: For more information see https://senzing.zendesk.com/hc/en-us/articles/115002408867-Introduction-G2-Quickstart\n",
      "ERROR: If you are running Ubuntu or Debian please also review the ssl and crypto information at https://senzing.zendesk.com/hc/en-us/articles/115010259947-System-Requirements\n",
      "senzing.G2Exception.G2ModuleGenericException: Failed to load the G2 library\n"
     ]
    }
   ],
   "source": [
    "from senzing import G2Engine, G2Exception\n",
    "# REPLACE /home/user/your_project with the path to your Senzing project\n",
    "senzing_engine_configuration_json = '{ \"PIPELINE\": { \"CONFIGPATH\": \"/home/user/your_project/etc\", \"SUPPORTPATH\": \"/home/user/your_project/data\", \"RESOURCEPATH\": \"/home/user/your_project/resources\" }, \"SQL\": { \"CONNECTION\": \"sqlite3://na:na@/home/user/your_project/var/sqlite/G2C.db\" } }'\n",
    "\n",
    "record = '{ \"NAME_FULL\": \"ROBERT SMITH\", \"ADDR_FULL\": \"123 Main St, Las Vegas NV\" }'\n",
    "\n",
    "try:\n",
    "\n",
    "  # Initialize the G2Engine\n",
    "  g2 = G2Engine()\n",
    "  g2.init(\"DoIT\",senzing_engine_configuration_json)\n",
    "\n",
    "  # Entity resolve a record\n",
    "  g2.addRecord(\"TEST\",\"1\",record)\n",
    "\n",
    "  # Get the entity it resolved to\n",
    "  response = bytearray()\n",
    "  g2.getEntityByRecordID(\"TEST\",\"1\",response)\n",
    "\n",
    "  # Display entity JSON\n",
    "  print(response.decode())\n",
    "\n",
    "  # Search for entities\n",
    "  g2.searchByAttributes('{ \"NAME_FIRST\": \"ROBERT\", \"NAME_LAST\": \"SMITH\", \"ADDR_FULL\": \"123 Main St, Las Vegas NV\" }', response)\n",
    "\n",
    "  # Display result JSON\n",
    "  print(response.decode())\n",
    "\n",
    "except Exception as err:\n",
    "  print(err)"
   ]
  }
 ],
 "metadata": {
  "kernelspec": {
   "display_name": "Python 3",
   "language": "python",
   "name": "python3"
  },
  "language_info": {
   "codemirror_mode": {
    "name": "ipython",
    "version": 3
   },
   "file_extension": ".py",
   "mimetype": "text/x-python",
   "name": "python",
   "nbconvert_exporter": "python",
   "pygments_lexer": "ipython3",
   "version": "3.10.11"
  }
 },
 "nbformat": 4,
 "nbformat_minor": 2
}
